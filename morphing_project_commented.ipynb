{
 "cells": [
  {
   "cell_type": "markdown",
   "metadata": {},
   "source": [
    "# Image Morphing Project"
   ]
  },
  {
   "cell_type": "markdown",
   "metadata": {},
   "source": [
    "### Submitted to Dr. Anukriti Bansal\n",
    "### By - Rivanshu Goyal (17UCS132) and Daksh Balyan (17UCS049)\n"
   ]
  },
  {
   "cell_type": "code",
   "execution_count": 1,
   "metadata": {},
   "outputs": [],
   "source": [
    "#Importing the Required Libraries\n",
    "import cv2\n",
    "import numpy as np"
   ]
  },
  {
   "cell_type": "markdown",
   "metadata": {},
   "source": [
    "## Different Functions defined to be used later in the code"
   ]
  },
  {
   "cell_type": "code",
   "execution_count": 2,
   "metadata": {},
   "outputs": [],
   "source": [
    "#Includes the image corners as control points\n",
    "def get_corner_points(img):\n",
    "    width = img.shape[0]\n",
    "    height = img.shape[1]\n",
    "    corner_points=[]\n",
    "    corner_points.append((0,0))\n",
    "    corner_points.append((width,0))\n",
    "    corner_points.append((0,height))\n",
    "    corner_points.append((width,height))\n",
    "    return corner_points\n",
    "\n",
    "#Mouse Clicks Call Back Functions for both the images\n",
    "def mouse_click_clinton(event,x,y,flags,param):\n",
    "    if event == cv2.EVENT_LBUTTONDOWN:\n",
    "        cv2.circle(clinton_img, (x,y), 3, (255,0,0), -1)\n",
    "    if event == cv2.EVENT_LBUTTONUP:\n",
    "        control_points_clinton.append((y,x))\n",
    "    cv2.imshow(\"Clinton\", clinton_img)\n",
    "\n",
    "def mouse_click_bush(event,x,y,flags,param):\n",
    "    if event == cv2.EVENT_LBUTTONDOWN:\n",
    "        cv2.circle(bush_img, (x,y), 3, (0,0,255), -1)\n",
    "    if event == cv2.EVENT_LBUTTONUP:\n",
    "        control_points_bush.append((y,x))\n",
    "    cv2.imshow(\"Bush\",bush_img)"
   ]
  },
  {
   "cell_type": "code",
   "execution_count": 3,
   "metadata": {},
   "outputs": [],
   "source": [
    "#Function to solve linear equation in two variables\n",
    "def solve_linalg(coeff,const):\n",
    "    a1 = coeff[0][0]+0.0001\n",
    "    b1 = coeff[0][1]\n",
    "    a2 = coeff[1][0]+0.0001         #.......a1*x + b1*y = c1......#\n",
    "    b2 = coeff[1][1]                #.......a2*x + b2*y = c2......#\n",
    "    c1 = const[0]\n",
    "    c2 = const[1]\n",
    "    \n",
    "    x = (c2*b1 - c1*b2)/(a2*b1-a1*b2)\n",
    "    y = (c1*a2-c2*a1)/(a2*b1-a1*b2)\n",
    "    \n",
    "    return (x,y)\n",
    "\n",
    "#Function to get the centre and radius of the circumcircle of a triangle\n",
    "def circumcircle(trngl):\n",
    "    x1 = trngl[0][0]\n",
    "    y1 = trngl[0][1]\n",
    "    x2 = trngl[1][0]                #...center of the circle cicumsribed over \n",
    "    y2 = trngl[1][1]                #...any triangle is the intersection point\n",
    "    x3 = trngl[2][0]                #...of the perpendicular bisectors of the \n",
    "    y3 = trngl[2][1]                #...sides of the triangle.\n",
    "    \n",
    "    coeff = np.array([[2*(x1-x2),2*(y1-y2)], [2*(x1-x3),2*(y1-y3)]],dtype=np.float64)\n",
    "    constants = np.array([x1**2+y1**2-x2**2-y2**2,x1**2+y1**2-x3**2-y3**2],dtype=np.float64)\n",
    "    center = solve_linalg(coeff,constants)\n",
    "    radius_squared = (center[0]-x1)**2 + (center[1]-y1)**2  #...radius is the euclidean distance between \n",
    "    return [center,radius_squared]                          #...center and one of the vertices of the triangle.\n",
    "\n",
    "#Function to check if a point lies in the circle\n",
    "def is_in_circle(centre,radius_sq,point):\n",
    "    x0 = centre[0]\n",
    "    y0 = centre[1]                      #...checking if the value after putting\n",
    "    x  = point[0]                       #...the point in the equation of the circle\n",
    "    y  = point[1]                       #...is negative or equal to zero\n",
    "    value = (x-x0)**2 + (y-y0)**2 -radius_sq\n",
    "    if(value<=0):\n",
    "        return True\n",
    "    else:\n",
    "        return False\n",
    "\n",
    "#Function to reverse the tuple\n",
    "def reverse(tup):\n",
    "    new_tup = tup[::-1] \n",
    "    return new_tup\n",
    "\n",
    "#Function to form triangle for given control points\n",
    "def delaunay(points):\n",
    "    #...Dictionary for triangles where key is the tuple of vertices\n",
    "    #...and value is the tuple:(centre,radius_squared)\n",
    "    triangles = {}\n",
    "    #Creating a super Triangle\n",
    "    super_triangle  = ((0,10000),(-10000,-10000),(10000,-10000))\n",
    "    #Adding it to the current list of triangles\n",
    "    triangles[super_triangle] = circumcircle(super_triangle)\n",
    "    #Iterating over each point in the list\n",
    "    for i in points:\n",
    "        edges = []              #for the star shaped polygon\n",
    "        wrong_triangles = []      #for storing the wrong triangles\n",
    "        #Checking the triangles which violate Delaunay traingulation by the addition of current point\n",
    "        for t in triangles:\n",
    "            centre = triangles[t][0]\n",
    "            radius = triangles[t][1]\n",
    "            #Checking if the point lies in the circumcircle of triangle\n",
    "            if(is_in_circle(centre,radius,i)):\n",
    "                #adding the wrong triangles to the list\n",
    "                wrong_triangles.append(t)\n",
    "                #Calculating the edges of the polygon formed by the wrong triangles \n",
    "                t_edge = [(t[0],t[1]),(t[1],t[2]),(t[2],t[0])]\n",
    "                for e in t_edge:\n",
    "                    if e in edges:\n",
    "                        edges.remove(e)\n",
    "                        continue\n",
    "                    rev = reverse(e)\n",
    "                    if rev in edges:\n",
    "                        edges.remove(rev)\n",
    "                        continue\n",
    "                    edges.append(e)\n",
    "        #removing the wrong triangles from the list\n",
    "        for t in wrong_triangles:\n",
    "            del triangles[t]\n",
    "        #...adding the new triangles formed by the edges of the star shaped polygon\n",
    "        #...and the new point \n",
    "        for e in edges:\n",
    "            t = (e[0],e[1],i)\n",
    "            triangles[t] = circumcircle(t)\n",
    "    \n",
    "    final_triangles = []\n",
    "    #removing the triangles formed by the vertices of the super triangle\n",
    "    for t in triangles:\n",
    "        if super_triangle[0] in t or super_triangle[1] in t or super_triangle[2] in t:\n",
    "            continue\n",
    "        else:\n",
    "            final_triangles.append(t)\n",
    "    #returning the final list of triangles as a list of tuples\n",
    "    return final_triangles\n",
    "\n",
    "#Function to draw triangles over the given image\n",
    "def triangle(img, trngle_coord,clr):\n",
    "    for i in range(len(trngle_coord)):\n",
    "        cv2.line(img, reverse(trngle_coord[i][0]),reverse(trngle_coord[i][1]), clr, 2)\n",
    "        cv2.line(img, reverse(trngle_coord[i][1]),reverse(trngle_coord[i][2]), clr, 2)\n",
    "        cv2.line(img, reverse(trngle_coord[i][0]),reverse(trngle_coord[i][2]), clr, 2)"
   ]
  },
  {
   "cell_type": "code",
   "execution_count": 4,
   "metadata": {},
   "outputs": [],
   "source": [
    "#Function to find area of the triangle\n",
    "def area_triangle(x1,y1,x2,y2,x3,y3):\n",
    "    return abs((x1*(y2-y3) + x2*(y3-y1) + x3*(y1-y2))/2)\n",
    "\n",
    "#Function to check if a point lies inside a triangle\n",
    "def is_in_triangle(triangle_coord, x, y):\n",
    "    x1=triangle_coord[0][0]                         #If the point lies inside the triangle then,\n",
    "    y1=triangle_coord[0][1]                         #....the sum of the areas of the triangles\n",
    "    x2=triangle_coord[1][0]                         #....formed between the edges of the current\n",
    "    y2=triangle_coord[1][1]                         #....triangle and the point equals the area \n",
    "    x3=triangle_coord[2][0]                         #....of the current triangle\n",
    "    y3=triangle_coord[2][1]\n",
    "    A = area_triangle(x1, y1, x2, y2, x3, y3) \n",
    "    A1 = area_triangle(x, y, x2, y2, x3, y3) \n",
    "    A2 = area_triangle(x1, y1, x, y, x3, y3)  \n",
    "    A3 = area_triangle(x1, y1, x2, y2, x, y) \n",
    "    if(A == (A1 + A2 + A3)): \n",
    "        return True\n",
    "    else: \n",
    "        return False"
   ]
  },
  {
   "cell_type": "markdown",
   "metadata": {},
   "source": [
    "## Main Program Starts"
   ]
  },
  {
   "cell_type": "code",
   "execution_count": 5,
   "metadata": {},
   "outputs": [],
   "source": [
    "#Loading the Images\n",
    "clinton_img = cv2.imread(\"Clinton.jpg\")\n",
    "bush_img = cv2.imread(\"Bush.jpg\")\n",
    "\n",
    "#getting the corner points of the image as control points\n",
    "control_points_clinton = get_corner_points(clinton_img)\n",
    "control_points_bush = get_corner_points(bush_img)"
   ]
  },
  {
   "cell_type": "code",
   "execution_count": 6,
   "metadata": {},
   "outputs": [
    {
     "data": {
      "text/plain": [
       "True"
      ]
     },
     "execution_count": 6,
     "metadata": {},
     "output_type": "execute_result"
    }
   ],
   "source": [
    "#Taking control points as input from user\n",
    "cv2.imshow(\"Clinton\", clinton_img)\n",
    "cv2.imshow(\"Bush\",bush_img)\n",
    "cv2.setMouseCallback(\"Clinton\",mouse_click_clinton)\n",
    "cv2.setMouseCallback(\"Bush\",mouse_click_bush)\n",
    "cv2.waitKey(0)\n",
    "cv2.destroyAllWindows()\n",
    "\n",
    "#Saving the images depicting control points given by user\n",
    "cv2.imwrite(\"bush_c.jpg\",bush_img)\n",
    "cv2.imwrite(\"clinton_c.jpg\",clinton_img)"
   ]
  },
  {
   "cell_type": "markdown",
   "metadata": {},
   "source": [
    "### First Image (Clinton.jpg)"
   ]
  },
  {
   "cell_type": "markdown",
   "metadata": {},
   "source": [
    "![](Clinton.jpg)"
   ]
  },
  {
   "cell_type": "markdown",
   "metadata": {},
   "source": [
    "### Target/ Final Image (Bush.jpg)"
   ]
  },
  {
   "cell_type": "markdown",
   "metadata": {},
   "source": [
    "![](Bush.jpg)"
   ]
  },
  {
   "cell_type": "markdown",
   "metadata": {},
   "source": [
    "### User chosen control points for Clinton.jpg"
   ]
  },
  {
   "cell_type": "markdown",
   "metadata": {},
   "source": [
    "![](clinton_c.jpg)"
   ]
  },
  {
   "cell_type": "markdown",
   "metadata": {},
   "source": [
    "### User chosen control points for Bush.jpg"
   ]
  },
  {
   "cell_type": "markdown",
   "metadata": {},
   "source": [
    "![](bush_c.jpg)"
   ]
  },
  {
   "cell_type": "code",
   "execution_count": 7,
   "metadata": {},
   "outputs": [],
   "source": [
    "#Triangulating the Control points using Delaunay Triangulation\n",
    "triangle_coord_clinton = delaunay(control_points_clinton)\n",
    "triangle_coord_bush = []\n",
    "#Finding the triangles in the final image corresponding those of the inital image\n",
    "for t in triangle_coord_clinton:\n",
    "    e0 = control_points_bush[control_points_clinton.index(t[0])]\n",
    "    e1 = control_points_bush[control_points_clinton.index(t[1])]\n",
    "    e2 = control_points_bush[control_points_clinton.index(t[2])]\n",
    "    triangle_coord_bush.append((e0,e1,e2))"
   ]
  },
  {
   "cell_type": "code",
   "execution_count": 8,
   "metadata": {},
   "outputs": [],
   "source": [
    "#Printing the Triangles over the Image\n",
    "clr_lineClinton = (255,0,0)  #BLUE\n",
    "clr_lineBush = (0,0,255)     #RED\n",
    "triangle(clinton_img,triangle_coord_clinton, clr_lineClinton)\n",
    "triangle(bush_img,triangle_coord_bush, clr_lineBush)\n",
    "\n",
    "cv2.imshow(\"clinton\",clinton_img)\n",
    "cv2.imshow(\"bush\",bush_img)\n",
    "cv2.waitKey(0)\n",
    "cv2.destroyAllWindows()\n",
    "\n",
    "#Saving the triangulated Images\n",
    "cv2.imwrite(\"clint_tr.jpg\",clinton_img)\n",
    "cv2.imwrite(\"bush_tr.jpg\",bush_img)"
   ]
  },
  {
   "cell_type": "markdown",
   "metadata": {},
   "source": [
    "### Delaunay Triangulated Clinton.jpg"
   ]
  },
  {
   "cell_type": "markdown",
   "metadata": {},
   "source": [
    "![](clint_tr.jpg)"
   ]
  },
  {
   "cell_type": "markdown",
   "metadata": {},
   "source": [
    "### Delaunay Triangulated Bush.jpg"
   ]
  },
  {
   "cell_type": "markdown",
   "metadata": {},
   "source": [
    "![](bush_tr.jpg)"
   ]
  },
  {
   "cell_type": "code",
   "execution_count": 9,
   "metadata": {},
   "outputs": [],
   "source": [
    "#Number of frames\n",
    "no_of_frames = 100\n",
    "#Array of all the frames\n",
    "frames = np.array([np.zeros_like(clinton_img)]*no_of_frames)\n",
    "#Setting the inital and final frame to Initial and Final Image respectively\n",
    "frames[0] = cv2.imread(\"Clinton.jpg\")\n",
    "frames[no_of_frames-1] = cv2.imread(\"Bush.jpg\")"
   ]
  },
  {
   "cell_type": "code",
   "execution_count": 10,
   "metadata": {},
   "outputs": [],
   "source": [
    "#List to store triangle vertices of the frames\n",
    "frames_triangle_coord = []\n",
    "#List to store affine basis of each frame of each triangle\n",
    "frames_affine_basis = []\n",
    "\n",
    "for k in range(len(frames)):\n",
    "    #List to store triangle coordinates of the current frame\n",
    "    frame_triangle_coord = []\n",
    "    #List to store affine basis of the triangles of current frame\n",
    "    frame_affine_basis = []\n",
    "    for trngl,trngln in zip(triangle_coord_clinton,triangle_coord_bush):\n",
    "            p0_x = trngl[0][0]\n",
    "            p0_y = trngl[0][1]\n",
    "            p1_x = trngl[1][0]\n",
    "            p1_y = trngl[1][1]\n",
    "            p2_x = trngl[2][0]\n",
    "            p2_y = trngl[2][1]\n",
    "            \n",
    "            p0_xn = trngln[0][0]\n",
    "            p0_yn = trngln[0][1]\n",
    "            p1_xn = trngln[1][0]\n",
    "            p1_yn = trngln[1][1]\n",
    "            p2_xn = trngln[2][0]\n",
    "            p2_yn = trngln[2][1]\n",
    "            \n",
    "            #Linearly Interpolating the control points to find the corresponding control points in intermediate frames\n",
    "            p0_xk = int(((no_of_frames-k)/no_of_frames)*p0_x + (k/no_of_frames)*p0_xn)\n",
    "            p0_yk = int(((no_of_frames-k)/no_of_frames)*p0_y + (k/no_of_frames)*p0_yn)\n",
    "            p1_xk = int(((no_of_frames-k)/no_of_frames)*p1_x + (k/no_of_frames)*p1_xn)\n",
    "            p1_yk = int(((no_of_frames-k)/no_of_frames)*p1_y + (k/no_of_frames)*p1_yn)\n",
    "            p2_xk = int(((no_of_frames-k)/no_of_frames)*p2_x + (k/no_of_frames)*p2_xn)\n",
    "            p2_yk = int(((no_of_frames-k)/no_of_frames)*p2_y + (k/no_of_frames)*p2_yn)\n",
    "            \n",
    "            #Finding the affine basis of the current triangle\n",
    "            e1_xk = p1_xk - p0_xk\n",
    "            e1_yk = p1_yk - p0_yk\n",
    "            e2_xk = p2_xk - p0_xk\n",
    "            e2_yk = p2_yk - p0_yk\n",
    "            \n",
    "            \n",
    "            frame_affine_basis.append(((e1_xk,e1_yk),(e2_xk,e2_yk)))\n",
    "            frame_triangle_coord.append(((p0_xk,p0_yk),(p1_xk,p1_yk),(p2_xk,p2_yk)))\n",
    "    frames_triangle_coord.append(frame_triangle_coord)\n",
    "    frames_affine_basis.append(frame_affine_basis)"
   ]
  },
  {
   "cell_type": "code",
   "execution_count": 11,
   "metadata": {},
   "outputs": [],
   "source": [
    "#Traversing over each frame\n",
    "for k in range(1,len(frames)-1):\n",
    "    #Traversing over each pixel of the frame\n",
    "    for x in range(frames[k].shape[0]):\n",
    "        for y in range(frames[k].shape[1]):\n",
    "            count=0\n",
    "            #Finding which triangle the pixel belongs to in the current pixel\n",
    "            for triangle_coord,affine_basis in zip(frames_triangle_coord[k-1],frames_affine_basis[k-1]):\n",
    "                if(is_in_triangle(triangle_coord,x,y)):\n",
    "                    #Calculating alpha and beta i.e. affine coordinates\n",
    "                    coeff = np.array([[affine_basis[0][0],affine_basis[1][0]],[affine_basis[0][1],affine_basis[1][1]]])\n",
    "                    constants = np.array([x-triangle_coord[0][0],y-triangle_coord[0][1]])\n",
    "                    z = solve_linalg(coeff, constants)\n",
    "                    alpha = z[0]\n",
    "                    beta = z[1]\n",
    "                    \n",
    "                    #Calculating corresponding points in source and destination image\n",
    "                    p_x = alpha*frames_affine_basis[0][count][0][0] + beta*frames_affine_basis[0][count][1][0] + frames_triangle_coord[0][count][0][0]\n",
    "                    p_y = alpha*frames_affine_basis[0][count][0][1] + beta*frames_affine_basis[0][count][1][1] + frames_triangle_coord[0][count][0][1]\n",
    "                    p_xn = alpha*frames_affine_basis[no_of_frames-1][count][0][0] + beta*frames_affine_basis[no_of_frames-1][count][1][0] + frames_triangle_coord[no_of_frames-1][count][0][0]\n",
    "                    p_yn = alpha*frames_affine_basis[no_of_frames-1][count][0][1] + beta*frames_affine_basis[no_of_frames-1][count][1][1] + frames_triangle_coord[no_of_frames-1][count][0][1]\n",
    "                    \n",
    "                    #Adjusting the values\n",
    "                    if(p_x>=frames[k].shape[0]):\n",
    "                        p_x = frames[k].shape[0]-1\n",
    "                    if(p_y>=frames[k].shape[1]):\n",
    "                        p_y = frames[k].shape[1]-1\n",
    "                    if(p_xn>=frames[k].shape[0]):\n",
    "                        p_xn = frames[k].shape[0]-1\n",
    "                    if(p_yn>frames[k].shape[1]):\n",
    "                        p_yn = frames[k].shape[1]-1\n",
    "                        \n",
    "                    #Assigning the pixel intensity\n",
    "                    pixel_colour = ((1-k/no_of_frames)*frames[0][int(p_x),int(p_y)] + (k/no_of_frames)*frames[no_of_frames-1][int(p_xn),int(p_yn)]).astype(int)\n",
    "                    frames[k][x][y] = pixel_colour\n",
    "                    break\n",
    "                else:\n",
    "                    count+=1\n"
   ]
  },
  {
   "cell_type": "code",
   "execution_count": 12,
   "metadata": {},
   "outputs": [],
   "source": [
    "#Saving the frames\n",
    "for i in range(no_of_frames):\n",
    "    name = \"img\" + str(i+1) + \".jpg\"\n",
    "    cv2.imwrite(name,frames[i])"
   ]
  }
 ],
 "metadata": {
  "kernelspec": {
   "display_name": "Python 3",
   "language": "python",
   "name": "python3"
  },
  "language_info": {
   "codemirror_mode": {
    "name": "ipython",
    "version": 3
   },
   "file_extension": ".py",
   "mimetype": "text/x-python",
   "name": "python",
   "nbconvert_exporter": "python",
   "pygments_lexer": "ipython3",
   "version": "3.7.6"
  }
 },
 "nbformat": 4,
 "nbformat_minor": 2
}
